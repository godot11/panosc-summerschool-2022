{
 "cells": [
  {
   "cell_type": "markdown",
   "id": "9160b802",
   "metadata": {},
   "source": [
    "# Resonant innelastic X-ray scattering (RIXS) "
   ]
  },
  {
   "cell_type": "markdown",
   "id": "8ba20de5",
   "metadata": {},
   "source": [
    "# Import the required packages and set up logging"
   ]
  },
  {
   "cell_type": "code",
   "execution_count": null,
   "id": "3e280904",
   "metadata": {},
   "outputs": [],
   "source": [
    "%matplotlib ipympl\n",
    "\n",
    "import sys\n",
    "import logging\n",
    "\n",
    "import numpy as np\n",
    "import scipy\n",
    "import matplotlib.pyplot as plt\n",
    "\n",
    "from daxs.sources import Hdf5Source\n",
    "from daxs.measurements import Rixs\n",
    "\n",
    "logging.basicConfig(level=logging.INFO, stream=sys.stdout)\n",
    "logging.getLogger(\"daxs\").setLevel(logging.DEBUG)"
   ]
  },
  {
   "cell_type": "markdown",
   "id": "2768083d",
   "metadata": {},
   "source": [
    "## Load the experimental data"
   ]
  },
  {
   "cell_type": "code",
   "execution_count": null,
   "id": "7fc558b5",
   "metadata": {},
   "outputs": [],
   "source": [
    "filename = \"experimental_data/ihch1527/id26/Sami_Ni_MOF_RIXS_cc/Sami_Ni_MOF_RIXS_cc_Ka1/Sami_Ni_MOF_RIXS_cc_Ka1.h5\"\n",
    "included_scans = \"3-83\"\n",
    "data_mappings = {\n",
    "    \"x\": \".1/measurement/hdh_energy\", \n",
    "    \"y\": \".1/instrument/positioners/xes_en\",\n",
    "    \"signal\": \".1/measurement/det_dtc_apd\", \n",
    "    \"monitor\": \".1/measurement/I02\",\n",
    "}\n",
    "source = Hdf5Source(filename=filename, included_scans=included_scans, data_mappings=data_mappings)\n",
    "\n",
    "measurement = Rixs(source)"
   ]
  },
  {
   "cell_type": "markdown",
   "id": "fd4f5af9",
   "metadata": {},
   "source": [
    "## A note on plotting 2D data"
   ]
  },
  {
   "cell_type": "code",
   "execution_count": null,
   "id": "77484916",
   "metadata": {},
   "outputs": [],
   "source": [
    "x, y, signal = measurement.x, measurement.y, measurement.signal"
   ]
  },
  {
   "cell_type": "code",
   "execution_count": null,
   "id": "b6f0f62d",
   "metadata": {},
   "outputs": [],
   "source": [
    "fig, (ax1, ax2) = plt.subplots(1, 2, figsize=(7.8, 4.5), sharey=True)\n",
    "\n",
    "# Plot using tricontourf.\n",
    "levels = 101\n",
    "ax1.tricontourf(x, x - y, signal, levels=levels)\n",
    "ax1.set_xlabel(\"Incident energy (keV)\")\n",
    "ax1.set_ylabel(\"Emission energy (keV)\")\n",
    "ax1.set_title(\"Using tricontourf\")\n",
    "\n",
    "# Plot using imshow. The data needs to be reshaped.\n",
    "nscans = 81\n",
    "npoints_per_scan = 66\n",
    "signal_reshaped = signal.reshape((nscans, npoints_per_scan))\n",
    "\n",
    "# https://matplotlib.org/stable/gallery/images_contours_and_fields/interpolation_methods.html\n",
    "interpolation = \"bilinear\"\n",
    "extent = [x.min(), x.max(), (x - y).min(), (x - y).max()]\n",
    "ax2.imshow(\n",
    "    signal_reshaped,\n",
    "    origin=\"lower\",\n",
    "    extent=extent,\n",
    "    aspect=\"auto\",\n",
    "    interpolation=interpolation,\n",
    ")\n",
    "ax2.set_xlabel(\"Incident energy (keV)\")\n",
    "ax2.set_title(\"Using imshow\")\n",
    "\n",
    "plt.tight_layout()\n"
   ]
  },
  {
   "cell_type": "markdown",
   "id": "f26a1f59",
   "metadata": {},
   "source": [
    "## Emission energy vs energy transfer plots"
   ]
  },
  {
   "cell_type": "code",
   "execution_count": null,
   "id": "df8251d2",
   "metadata": {},
   "outputs": [],
   "source": [
    "fig, (ax1, ax2) = plt.subplots(1, 2, figsize=(8, 4.5))\n",
    "\n",
    "# Plot the plane with the emission energy as Y-axis.\n",
    "ax1.tricontourf(x, x - y, signal, levels=levels)\n",
    "ax1.set_xlabel(\"Incident energy (keV)\")\n",
    "ax1.set_ylabel(\"Emission energy (keV)\")\n",
    "\n",
    "# Plot the plane with the energy transfer as Y-axis.\n",
    "ax2.tricontourf(x, y, signal, levels=levels)\n",
    "ax2.set_xlabel(\"Incident energy (keV)\")\n",
    "ax2.set_ylabel(\"Energy transfer (keV)\")\n",
    "\n",
    "plt.tight_layout()"
   ]
  },
  {
   "cell_type": "markdown",
   "id": "7acf31f3",
   "metadata": {},
   "source": [
    "## Apply the concentration correction"
   ]
  },
  {
   "cell_type": "code",
   "execution_count": null,
   "id": "ba871599",
   "metadata": {},
   "outputs": [],
   "source": [
    "measurement.reset()\n",
    "\n",
    "fig, (ax1, ax2) = plt.subplots(1, 2, figsize=(8, 4.5), sharex=True, sharey=True)\n",
    "\n",
    "# Plot the uncorrected plane.\n",
    "ax1.tricontourf(measurement.x, measurement.y, measurement.signal, levels=levels)\n",
    "ax1.set_xlabel(\"Incident energy (keV)\")\n",
    "ax1.set_ylabel(\"Emission energy (keV)\")\n",
    "\n",
    "measurement.concentration_correction(84)\n",
    "\n",
    "# Plot the plane concentration-corrected plane.\n",
    "ax2.tricontourf(measurement.x, measurement.y, measurement.signal, levels=levels)\n",
    "ax2.set_xlabel(\"Incident energy (keV)\")\n",
    "ax2.set_ylabel(\"Energy transfer (keV)\")\n",
    "\n",
    "plt.tight_layout()"
   ]
  },
  {
   "cell_type": "markdown",
   "id": "3cefe28d",
   "metadata": {},
   "source": [
    "## Cut the plane"
   ]
  },
  {
   "cell_type": "code",
   "execution_count": null,
   "id": "708d424a",
   "metadata": {},
   "outputs": [],
   "source": [
    "measurement.cut(\"CEE\", energies=[7.4780, 7.4790, 7.4794])\n",
    "measurement.cut(\"CIE\", energies=[8.332])\n",
    "measurement.cut(\"CET\", [0.8531])"
   ]
  },
  {
   "cell_type": "code",
   "execution_count": null,
   "id": "479f1201",
   "metadata": {},
   "outputs": [],
   "source": [
    "fig, (ax1, ax2) = plt.subplots(1, 2, figsize=(8.5, 4.5))\n",
    "\n",
    "ax1.tricontourf(measurement.x, measurement.y, measurement.signal, levels=levels)\n",
    "\n",
    "for label, (x, y, signal) in measurement.cuts.items():\n",
    "    if \"CIE\" in label:\n",
    "        continue\n",
    "        \n",
    "    ax1.plot(x, y)\n",
    "\n",
    "    ids = np.argsort(x)\n",
    "    x = x[ids]\n",
    "    y = y[ids]\n",
    "    signal = signal[ids]\n",
    "\n",
    "    ax2.plot(x, signal, label=label)\n",
    "\n",
    "ax1.set_xlabel(\"Incident energy (keV)\")\n",
    "ax1.set_ylabel(\"Energy transfer (keV)\")\n",
    "\n",
    "ax2.set_xlabel(\"Incident energy (keV)\")\n",
    "ax2.set_ylabel(\"Intensity (arb. units)\")\n",
    "\n",
    "ax2.legend() \n",
    "plt.tight_layout()"
   ]
  },
  {
   "cell_type": "markdown",
   "id": "4b2f5d55",
   "metadata": {},
   "source": [
    "## Interpolate the plane"
   ]
  },
  {
   "cell_type": "code",
   "execution_count": null,
   "id": "9dd5ea56",
   "metadata": {},
   "outputs": [],
   "source": [
    "fig, (ax1, ax2) = plt.subplots(1, 2, figsize=(8, 4.5), sharex=True, sharey=True)\n",
    "\n",
    "measurement.reset()\n",
    "\n",
    "# Plot the plane original plane.\n",
    "ax1.tricontourf(measurement.x, measurement.y, measurement.signal, levels=levels)\n",
    "ax1.set_xlabel(\"Incident energy (keV)\")\n",
    "ax1.set_ylabel(\"Energy transfer (keV)\")\n",
    "ax1.set_title(f\"Original signal: {len(measurement.signal)} points\")\n",
    "\n",
    "npoints = 51\n",
    "shift = 5e-5\n",
    "x, y, signal = measurement.x, measurement.y, measurement.signal\n",
    "xi = np.linspace(x.min() + shift, x.max() - shift, npoints)\n",
    "yi = np.linspace(y.min() + shift, y.max() - shift, npoints)\n",
    "measurement.interpolate(xi, yi)\n",
    "\n",
    "# Plot the plane the interpolated plane.\n",
    "ax2.tricontourf(measurement.x, measurement.y, measurement.signal, levels=levels)\n",
    "ax2.set_xlabel(\"Incident energy (keV)\")\n",
    "ax2.set_title(f\"Interpolated signal: {len(measurement.signal)} points\")\n",
    "\n",
    "plt.tight_layout()"
   ]
  }
 ],
 "metadata": {
  "kernelspec": {
   "display_name": "Python 3 (ipykernel)",
   "language": "python",
   "name": "python3"
  },
  "language_info": {
   "codemirror_mode": {
    "name": "ipython",
    "version": 3
   },
   "file_extension": ".py",
   "mimetype": "text/x-python",
   "name": "python",
   "nbconvert_exporter": "python",
   "pygments_lexer": "ipython3",
   "version": "3.9.13"
  }
 },
 "nbformat": 4,
 "nbformat_minor": 5
}
