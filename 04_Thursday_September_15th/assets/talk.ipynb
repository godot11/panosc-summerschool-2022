{
 "cells": [
  {
   "cell_type": "markdown",
   "metadata": {
    "slideshow": {
     "slide_type": "slide"
    }
   },
   "source": [
    "# Spectroscopy data analysis and calculations using the **Jupyter Notebook**\n",
    "## ESRF user meeting 2022 - tutorial T4 \n",
    "## Marius Retegan"
   ]
  },
  {
   "cell_type": "markdown",
   "metadata": {
    "slideshow": {
     "slide_type": "slide"
    }
   },
   "source": [
    "# Outline\n",
    "\n",
    "- Running Python in the Jupyter Notebook (15 minutes)\n",
    "- Experimental data reduction and analysis (60 minutes)\n",
    "    - Coffee break (15 minutes)\n",
    "- Theoretical calculation of X-ray spectra (90 minutes)"
   ]
  },
  {
   "cell_type": "markdown",
   "metadata": {
    "slideshow": {
     "slide_type": "slide"
    }
   },
   "source": [
    "# Project Jupyter ecosystem"
   ]
  },
  {
   "cell_type": "markdown",
   "metadata": {
    "slideshow": {
     "slide_type": "slide"
    }
   },
   "source": [
    "Project Jupyter develops and supports several interactive computing products:\n",
    "\n",
    "- **Jupyter Notebook**: the classic notebook interface\n",
    "- **JupyterLab**: a next-generation notebook interface\n",
    "- **JupyterHub**: a multi-user version of the notebook\n",
    "- **Voilà**: turns Jupyter notebooks into standalone web applications\n",
    "\n",
    "You can find more information about it on the official website or on Wikipedia.\n",
    "\n",
    "<img src=\"images/jupyter.png\" style=\"display:block; margin:auto\">"
   ]
  },
  {
   "cell_type": "markdown",
   "metadata": {
    "slideshow": {
     "slide_type": "slide"
    }
   },
   "source": [
    "The **Jupyter Notebook** is a versatile web application that allows to create and share computational documents. It offers a simple, streamlined, document-centric experience.\n",
    "\n",
    "<img src=\"images/lorentz_equations.png\" style=\"display:block; margin:auto\">"
   ]
  },
  {
   "cell_type": "markdown",
   "metadata": {
    "slideshow": {
     "slide_type": "slide"
    }
   },
   "source": [
    "# Using Jupyter notebooks at the ESRF"
   ]
  },
  {
   "cell_type": "markdown",
   "metadata": {
    "slideshow": {
     "slide_type": "slide"
    }
   },
   "source": [
    "Connect to https://jupyter-slurm.esrf.fr and login using your ESRF credentials (SMIS).\n",
    "\n",
    "<img src=\"images/esrf_sso.png\" style=\"display:block; margin:auto\">"
   ]
  },
  {
   "cell_type": "markdown",
   "metadata": {
    "slideshow": {
     "slide_type": "slide"
    }
   },
   "source": [
    "Once signed in, go to the **Advanced** tab and select:\n",
    "\n",
    "* Number of CPUs: **2**\n",
    "* Job duration: **4:00:00**\n",
    "* Reservation: **tutorial4**\n",
    "\n",
    "Then click **Start**.\n",
    "\n",
    "<img src=\"images/jupyter_server_options.png\" style=\"display:block; margin:auto\">"
   ]
  },
  {
   "cell_type": "markdown",
   "metadata": {
    "slideshow": {
     "slide_type": "slide"
    }
   },
   "source": [
    "After the resources are allocated, you need to load the environment for spectroscopy and make it usable from the Jupyter Notebook.\n",
    "\n",
    "1. Open a terminal from **New > Terminal**.\n",
    "2. Run the commands ``module load conda; module load spectroscopy``. \n",
    "    ***\n",
    "    If you get a **command not found** error message, run first ``source /etc/profile``, and then execute the previous commands.\n",
    "    ***\n",
    "3. Run the command ``kernel-install``.\n",
    "4. Go back to the previous tab and create a new notebook from **New > Python 3 (spectroscopy)**."
   ]
  },
  {
   "cell_type": "markdown",
   "metadata": {
    "slideshow": {
     "slide_type": "slide"
    }
   },
   "source": [
    "A cell can contain source code or Markdown text. Click or double-click on a cell to edit it.\n",
    "\n",
    "When editing:\n",
    "\n",
    "- **Enter** will add a new line to the cell. \n",
    "- **Shift + Enter** will execute the cell.\n",
    "\n"
   ]
  },
  {
   "cell_type": "code",
   "execution_count": 1,
   "metadata": {
    "slideshow": {
     "slide_type": "-"
    }
   },
   "outputs": [
    {
     "name": "stdout",
     "output_type": "stream",
     "text": [
      "a is a negative number.\n"
     ]
    }
   ],
   "source": [
    "a = -1\n",
    "if a < 0:\n",
    "    print(\"a is a negative number.\")\n",
    "else:\n",
    "    print(\"a is positive number.\")"
   ]
  },
  {
   "cell_type": "markdown",
   "metadata": {
    "slideshow": {
     "slide_type": "-"
    }
   },
   "source": [
    "This is a cell with Markdown text. I can even write equations:\n",
    "\n",
    "$\\oint_C {E \\cdot d\\ell  =  - \\frac{d}{{dt}}} \\int_S {B_n dA}$"
   ]
  }
 ],
 "metadata": {
  "celltoolbar": "Slideshow",
  "kernelspec": {
   "display_name": "Python 3",
   "language": "python",
   "name": "python3"
  },
  "language_info": {
   "codemirror_mode": {
    "name": "ipython",
    "version": 3
   },
   "file_extension": ".py",
   "mimetype": "text/x-python",
   "name": "python",
   "nbconvert_exporter": "python",
   "pygments_lexer": "ipython3",
   "version": "3.9.10"
  }
 },
 "nbformat": 4,
 "nbformat_minor": 4
}
