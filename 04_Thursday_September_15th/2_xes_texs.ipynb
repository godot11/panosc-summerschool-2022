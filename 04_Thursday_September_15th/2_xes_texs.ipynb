{
 "cells": [
  {
   "cell_type": "markdown",
   "id": "b2b72942",
   "metadata": {},
   "source": [
    "# X-ray emission measurements using TEXS (tender X-ray emission spectrometer)"
   ]
  },
  {
   "cell_type": "markdown",
   "id": "19f1c760",
   "metadata": {},
   "source": [
    "## Import the required packages and set up logging"
   ]
  },
  {
   "cell_type": "code",
   "execution_count": null,
   "id": "58a0aca7",
   "metadata": {},
   "outputs": [],
   "source": [
    "%matplotlib ipympl\n",
    "\n",
    "import sys\n",
    "import logging\n",
    "\n",
    "import numpy as np\n",
    "import matplotlib.pyplot as plt\n",
    "\n",
    "from daxs.measurements import Hdf5Source, Xes\n",
    "from daxs.utils import merge_measurements\n",
    "\n",
    "logging.basicConfig(level=logging.INFO, stream=sys.stdout)\n",
    "logging.getLogger(\"daxs\").setLevel(logging.INFO)"
   ]
  },
  {
   "cell_type": "markdown",
   "id": "1336c57f",
   "metadata": {},
   "source": [
    "## Define the data source and create the measurement"
   ]
  },
  {
   "cell_type": "code",
   "execution_count": null,
   "id": "1258f6c6",
   "metadata": {},
   "outputs": [],
   "source": [
    "filename = \"experimental_data/ihma176/id26/Ir47Ru46Ti7_AP/Ir47Ru46Ti7_AP_La_VtC/Ir47Ru46Ti7_AP_La_VtC.h5\"\n",
    "included_scans = 2\n",
    "data_mappings = {\n",
    "    \"x\": \".1/measurement/xes_en_texs\",\n",
    "    \"signal\": [\n",
    "        \".1/measurement/g02\",\n",
    "        \".1/measurement/g03\",\n",
    "        \".1/measurement/g04\",\n",
    "        \".1/measurement/g05\",\n",
    "        \".1/measurement/g06\",\n",
    "        \".1/measurement/g07\",\n",
    "        \".1/measurement/g11\",\n",
    "        \".1/measurement/g12\",\n",
    "        \".1/measurement/g13\",\n",
    "        \".1/measurement/g14\",\n",
    "    ],\n",
    "    \"monitor\": \".1/measurement/I0t\",\n",
    "}\n",
    "source = Hdf5Source(\n",
    "    filename=filename, included_scans=included_scans, data_mappings=data_mappings\n",
    ")\n",
    "\n",
    "measurement = Xes(source)"
   ]
  },
  {
   "cell_type": "markdown",
   "id": "ab2488ab",
   "metadata": {},
   "source": [
    "## Plot the data from the individual wires"
   ]
  },
  {
   "cell_type": "code",
   "execution_count": null,
   "id": "8eb7f0eb",
   "metadata": {},
   "outputs": [],
   "source": [
    "for scan in measurement.scans:\n",
    "    fig, ax = plt.subplots()\n",
    "    scan.plot(ax=ax)\n",
    "    ax.set_title(f\"Scan {scan.index}\")\n",
    "    ax.legend()\n",
    "plt.tight_layout()"
   ]
  },
  {
   "cell_type": "markdown",
   "id": "5b3d6f01",
   "metadata": {},
   "source": [
    "## Find the outliers and remove them"
   ]
  },
  {
   "cell_type": "code",
   "execution_count": null,
   "id": "d3594a07",
   "metadata": {},
   "outputs": [],
   "source": [
    "measurement.find_outliers(threshold=3.5, window_size=25)\n",
    "\n",
    "for scan in measurement.scans:\n",
    "    fig, ax = plt.subplots()\n",
    "    scan.plot(ax=ax)\n",
    "    ax.set_title(f\"Scan {scan.index}\")\n",
    "    ax.legend()\n",
    "    \n",
    "plt.tight_layout()"
   ]
  },
  {
   "cell_type": "markdown",
   "id": "dabf3164",
   "metadata": {},
   "source": [
    "## Remove the outliers\n",
    "\n",
    "Once the optimal parameters for the threshold and size of the sliding window are determined, call the `remove_outliers` method."
   ]
  },
  {
   "cell_type": "code",
   "execution_count": null,
   "id": "382e52a1",
   "metadata": {},
   "outputs": [],
   "source": [
    "measurement.remove_outliers()"
   ]
  },
  {
   "cell_type": "code",
   "execution_count": null,
   "id": "245f52e7",
   "metadata": {},
   "outputs": [],
   "source": [
    "fig, ax = plt.subplots(figsize=(7, 2))\n",
    "ax.plot(measurement.x, measurement.signal)\n",
    "ax.set_xlabel(\"Emission energy (keV)\")\n",
    "ax.set_ylabel(\"Intensity (arb. units)\")\n",
    "plt.tight_layout()"
   ]
  }
 ],
 "metadata": {
  "kernelspec": {
   "display_name": "Python 3 (ipykernel)",
   "language": "python",
   "name": "python3"
  },
  "language_info": {
   "codemirror_mode": {
    "name": "ipython",
    "version": 3
   },
   "file_extension": ".py",
   "mimetype": "text/x-python",
   "name": "python",
   "nbconvert_exporter": "python",
   "pygments_lexer": "ipython3",
   "version": "3.9.13"
  }
 },
 "nbformat": 4,
 "nbformat_minor": 5
}
