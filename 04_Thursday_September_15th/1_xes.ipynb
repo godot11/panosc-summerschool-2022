{
 "cells": [
  {
   "cell_type": "markdown",
   "metadata": {},
   "source": [
    "# X-ray emission spectrscopy (XES)"
   ]
  },
  {
   "cell_type": "markdown",
   "metadata": {},
   "source": [
    "## Import the required packages and set up logging"
   ]
  },
  {
   "cell_type": "code",
   "execution_count": null,
   "metadata": {},
   "outputs": [],
   "source": [
    "%matplotlib ipympl\n",
    "\n",
    "import sys\n",
    "import logging\n",
    "\n",
    "import numpy as np\n",
    "import matplotlib.pyplot as plt\n",
    "\n",
    "from daxs.sources import Hdf5Source\n",
    "from daxs.measurements import Xes\n",
    "from daxs.utils import merge_measurements\n",
    "\n",
    "logging.basicConfig(level=logging.INFO, stream=sys.stdout)\n",
    "logging.getLogger(\"daxs\").setLevel(logging.INFO)"
   ]
  },
  {
   "cell_type": "markdown",
   "metadata": {},
   "source": [
    "## Define the data source and create the measurement"
   ]
  },
  {
   "cell_type": "code",
   "execution_count": null,
   "metadata": {},
   "outputs": [],
   "source": [
    "filename = \"experimental_data/ihch1515/id26/Cr2O3_new/Cr2O3_new_0003/Cr2O3_new_0003.h5\"\n",
    "included_scans = 4\n",
    "data_mappings = {\n",
    "    \"x\": \".1/measurement/xes_en\",\n",
    "    \"signal\": \".1/measurement/det_dtc_apd\",\n",
    "    \"monitor\": \".1/measurement/I02\",\n",
    "}\n",
    "source = Hdf5Source(filename, included_scans, data_mappings=data_mappings)\n",
    "\n",
    "measurement = Xes(source)"
   ]
  },
  {
   "cell_type": "markdown",
   "metadata": {},
   "source": [
    "## Plot the reduced data"
   ]
  },
  {
   "cell_type": "code",
   "execution_count": null,
   "metadata": {},
   "outputs": [],
   "source": [
    "fig, ax = plt.subplots()\n",
    "\n",
    "ax.plot(measurement.x, measurement.signal)\n",
    "\n",
    "ax.set_xlabel(\"Emission energy (eV)\")\n",
    "ax.set_ylabel(\"Intensity (arb. units)\")\n",
    "\n",
    "plt.tight_layout()"
   ]
  },
  {
   "cell_type": "markdown",
   "metadata": {},
   "source": [
    "## Load data from the three measurements and accumulate them into a list"
   ]
  },
  {
   "cell_type": "code",
   "execution_count": null,
   "metadata": {},
   "outputs": [],
   "source": [
    "measurements = []\n",
    "\n",
    "scan_ids = [4, 5, 6]\n",
    "\n",
    "for scan_id in scan_ids:\n",
    "    source = Hdf5Source(filename, scan_id, data_mappings=data_mappings)\n",
    "    measurement = Xes(source)\n",
    "    measurements.append(measurement)"
   ]
  },
  {
   "cell_type": "code",
   "execution_count": null,
   "metadata": {},
   "outputs": [],
   "source": [
    "measurements"
   ]
  },
  {
   "cell_type": "markdown",
   "metadata": {},
   "source": [
    "## Plot the three measurements"
   ]
  },
  {
   "cell_type": "code",
   "execution_count": null,
   "metadata": {},
   "outputs": [],
   "source": [
    "fig, ax = plt.subplots()\n",
    "\n",
    "for i, measurement in enumerate(measurements):\n",
    "    ax.plot(measurement.x, measurement.signal, \".\", label=f\"{i}\")\n",
    "\n",
    "ax.set_xlabel(\"Emission energy (eV)\")\n",
    "ax.set_ylabel(\"Intensity (arb. units)\")\n",
    "\n",
    "plt.tight_layout()"
   ]
  },
  {
   "cell_type": "markdown",
   "metadata": {},
   "source": [
    "## Merge the measurements and plot the resulting spectrum"
   ]
  },
  {
   "cell_type": "code",
   "execution_count": null,
   "metadata": {},
   "outputs": [],
   "source": [
    "x, y = merge_measurements(measurements)\n",
    "\n",
    "ax.plot(x, y, \"k-\", label=\"merged\")\n",
    "ax.legend()"
   ]
  },
  {
   "cell_type": "markdown",
   "metadata": {},
   "source": [
    "## Plot the data with log scaling on the Y-axis"
   ]
  },
  {
   "cell_type": "code",
   "execution_count": null,
   "metadata": {},
   "outputs": [],
   "source": [
    "fig, ax = plt.subplots(figsize=(7, 3))\n",
    "\n",
    "ax.semilogy(x, y, \"k-\", label=\"merged\")    \n",
    "ax.set_xlabel(\"Emission energy (eV)\")\n",
    "ax.set_ylabel(\"Intensity (arb. units)\")\n",
    "\n",
    "plt.tight_layout()"
   ]
  },
  {
   "cell_type": "markdown",
   "metadata": {},
   "source": [
    "## Background subtraction for the valence-to-core (vtc) XES\n",
    "\n",
    "<figure>\n",
    "  <img src=\"assets/xes_semilogy.png\" alt=\"XES semilog Y-axis\" style=\"width:60%\">\n",
    "  <figcaption style=\"text-align: center; font-style: italic\">E. Gallo and P. Glatzel, Advanced Materials 26, 7730 (2014).</figcaption>\n",
    "</figure>"
   ]
  }
 ],
 "metadata": {
  "kernelspec": {
   "display_name": "Python 3 (ipykernel)",
   "language": "python",
   "name": "python3"
  },
  "language_info": {
   "codemirror_mode": {
    "name": "ipython",
    "version": 3
   },
   "file_extension": ".py",
   "mimetype": "text/x-python",
   "name": "python",
   "nbconvert_exporter": "python",
   "pygments_lexer": "ipython3",
   "version": "3.9.13"
  }
 },
 "nbformat": 4,
 "nbformat_minor": 4
}
