{
 "cells": [
  {
   "cell_type": "markdown",
   "id": "34a8c5f2",
   "metadata": {},
   "source": [
    "# X-ray absorption spectroscopy (XAS)"
   ]
  },
  {
   "cell_type": "markdown",
   "id": "5429f62f",
   "metadata": {},
   "source": [
    "## Import the required packages and set up logging"
   ]
  },
  {
   "cell_type": "code",
   "execution_count": null,
   "id": "76534ca2",
   "metadata": {},
   "outputs": [],
   "source": [
    "%matplotlib widget\n",
    "\n",
    "import sys\n",
    "import logging\n",
    "\n",
    "import numpy as np\n",
    "import matplotlib.pyplot as plt\n",
    "\n",
    "from daxs.measurements import Hdf5Source, Xas\n",
    "\n",
    "logging.basicConfig(level=logging.INFO, stream=sys.stdout)\n",
    "logging.getLogger(\"daxs\").setLevel(logging.INFO)"
   ]
  },
  {
   "cell_type": "markdown",
   "id": "f80778c4",
   "metadata": {},
   "source": [
    "## Locate the experimental data using operating system commands"
   ]
  },
  {
   "cell_type": "code",
   "execution_count": null,
   "id": "b398208d",
   "metadata": {},
   "outputs": [],
   "source": [
    "!ls experimental_data"
   ]
  },
  {
   "cell_type": "markdown",
   "id": "8f7a9243",
   "metadata": {},
   "source": [
    "## Define the data source and create the measurement"
   ]
  },
  {
   "cell_type": "code",
   "execution_count": null,
   "id": "8034c517",
   "metadata": {},
   "outputs": [],
   "source": [
    "filename = \"experimental_data/ihch1515/id26/Cr2O3_new/Cr2O3_new_0002/Cr2O3_new_0002.h5\"\n",
    "included_scans = \"4-23\"\n",
    "data_mappings = {\"x\": \".1/measurement/hdh_energy\", \"signal\": \".1/measurement/det_dtc_apd\", \"monitor\": \".1/measurement/I02\"}\n",
    "\n",
    "source = Hdf5Source(filename, included_scans, data_mappings=data_mappings)\n",
    "measurement = Xas(source)"
   ]
  },
  {
   "cell_type": "markdown",
   "id": "3427e0fb",
   "metadata": {},
   "source": [
    "## Plot the reduced data"
   ]
  },
  {
   "cell_type": "code",
   "execution_count": null,
   "id": "c9a11513",
   "metadata": {},
   "outputs": [],
   "source": [
    "fig, ax = plt.subplots()\n",
    "\n",
    "ax.plot(measurement.x, measurement.signal)\n",
    "\n",
    "ax.set_xlabel(\"Incident energy (keV)\")\n",
    "ax.set_ylabel(\"Intensity (arb. units)\")\n",
    "\n",
    "plt.tight_layout()"
   ]
  },
  {
   "cell_type": "markdown",
   "id": "e42793e8",
   "metadata": {},
   "source": [
    "## Aggregation of multiple scans\n",
    "\n",
    "Fraction of sums:\n",
    "- $I_S = \\frac{I_{S,1}(E)\\ +\\ I_{S,2}(E)\\ +\\ \\cdots}{I_{M,1}(E)\\ +\\ I_{M,2}(E)\\ +\\ \\cdots}$ \n",
    "- This may not correct well for instabilities in $I_M$.\n",
    "   \n",
    "Sum of fractions:\n",
    "- $I_S = \\frac{I_{S,1}(E)}{I_{M,1}(E)} + \\frac{I_{S,2}(E)}{I_{M,2}(E)} + \\cdots$ \n",
    "- This may not give the correct statistical weight between scans and lose the total counts."
   ]
  },
  {
   "cell_type": "code",
   "execution_count": null,
   "id": "95922c2f",
   "metadata": {},
   "outputs": [],
   "source": [
    "fig, ax = plt.subplots()\n",
    "\n",
    "ax.plot(measurement.x, measurement.signal, label=\"fraction of sums\")\n",
    "\n",
    "measurement.reset()\n",
    "measurement.process(aggregation=\"sum of fractions\")\n",
    "ax.plot(measurement.x, measurement.signal, label=\"sum of fractions\")\n",
    "\n",
    "ax.legend()\n",
    "ax.set_xlabel(\"Incident energy (keV)\")\n",
    "ax.set_ylabel(\"Intensity (arb. units)\")\n",
    "\n",
    "plt.tight_layout()"
   ]
  },
  {
   "cell_type": "markdown",
   "id": "1c8b2171",
   "metadata": {},
   "source": [
    "## Normalize the reduced data"
   ]
  },
  {
   "cell_type": "code",
   "execution_count": null,
   "id": "bdbcb571",
   "metadata": {},
   "outputs": [],
   "source": [
    "fig, (ax1, ax2) = plt.subplots(2, 1, gridspec_kw={\"height_ratios\": [3, 1]})\n",
    "\n",
    "measurement.reset()\n",
    "measurement.process(aggregation=\"fraction of sums\", normalization=\"maximum\")\n",
    "ax1.plot(measurement.x, measurement.signal, label=\"fraction of sums\")\n",
    "\n",
    "# Save the data for the calculation of the difference signal.\n",
    "x = np.copy(measurement.x)\n",
    "signal_fos = np.copy(measurement.signal)\n",
    "\n",
    "measurement.reset()\n",
    "measurement.process(aggregation=\"sum of fractions\", normalization=\"maximum\")\n",
    "ax1.plot(measurement.x, measurement.signal, label=\"sum of fractions\")\n",
    "\n",
    "# Save the data for the calculation of the difference signal.\n",
    "signal_sof = np.copy(measurement.signal)\n",
    "\n",
    "ax1.legend()\n",
    "ax1.set_xlabel(\"Incident energy (keV)\")\n",
    "ax1.set_ylabel(\"Intensity (arb. units)\")\n",
    "\n",
    "# Plot the difference of the two signals.\n",
    "ax2.plot(x, signal_fos - signal_sof)\n",
    "\n",
    "plt.tight_layout()"
   ]
  }
 ],
 "metadata": {
  "kernelspec": {
   "display_name": "Python 3 (ipykernel)",
   "language": "python",
   "name": "python3"
  },
  "language_info": {
   "codemirror_mode": {
    "name": "ipython",
    "version": 3
   },
   "file_extension": ".py",
   "mimetype": "text/x-python",
   "name": "python",
   "nbconvert_exporter": "python",
   "pygments_lexer": "ipython3",
   "version": "3.9.13"
  }
 },
 "nbformat": 4,
 "nbformat_minor": 5
}
