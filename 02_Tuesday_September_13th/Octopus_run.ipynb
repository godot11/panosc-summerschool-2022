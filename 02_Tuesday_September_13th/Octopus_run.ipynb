{
 "cells": [
  {
   "cell_type": "markdown",
   "metadata": {},
   "source": [
    "**TDDFT method**\n",
    "$$\\renewcommand{\\ket}[1]{\\left|{#1}\\right\\rangle}$$\n",
    "$$\\renewcommand{\\bra}[1]{\\left\\langle{#1}\\right|}$$\n",
    "$$\\renewcommand{\\braket}[2]{\\left\\langle{#1}\\middle|{#2}\\right\\rangle}$$"
   ]
  },
  {
   "cell_type": "markdown",
   "metadata": {},
   "source": [
    "Using the lewenstein integral method one cannot account for the multi-electron contribution when it comes to a molecular system. Hence a quantum description which can include the multielectron dynamics is necessary. One such method is using time dependent density functional theory (TDDFT)."
   ]
  },
  {
   "cell_type": "markdown",
   "metadata": {},
   "source": [
    "In TDDFT method, using Runge-Gross theorem a one-to-one correspondance between the time dependent potentials and densities is established. Hence the TDKS equation is given by:\n",
    "\n",
    "$$i\\frac{\\partial}{\\partial~t}\\phi_i(r,t) = [-\\frac{\\nabla^2}{2}+V_{ks}[n](r,t)]\\phi_i(r,t)$$\n",
    "\n",
    "$V_{ks}[n](r,t) = V_{ext}(r,t) + V_H[n](r,t)+ V_{XC}[n](r,t)$: KS potential given by one body external potential, non-interacting Hartree potential and XC potential.\n",
    "\n",
    "$V_H[n](r,t) = \\int dr^\\prime \\frac{n(r^\\prime ,t)}{|r-r^\\prime|}$: Hartree potential\n",
    "\n",
    "$\\phi_i(r,t)$: KS orbital\n",
    "\n",
    "$n(r,t) = \\sum_i^{N}|\\phi_i(r,t)|^2$: Time dependent densiyt of N-interacting systems"
   ]
  },
  {
   "cell_type": "markdown",
   "metadata": {},
   "source": [
    "Using the time dependent density, one can calculate the time dependent dipole moment:\n",
    "\n",
    "$$d(t) = \\int dr~r n(r,t) = \\sum_j \\int dr~r|\\phi_j(r,t)|^2$$"
   ]
  },
  {
   "cell_type": "markdown",
   "metadata": {},
   "source": [
    "Acceleration dipole moment can be calculated using the above time dependent dipole moment.\n",
    "\n",
    "$$a(t) = \\frac{d^2}{dt^2}d(t) = -\\int dr~n(r,t)\\nabla~V_{ks}(r,t)$$"
   ]
  },
  {
   "cell_type": "markdown",
   "metadata": {},
   "source": [
    "Taking the fourier transform of the induced dipole moment modulus squared we can calculate the harmonic generation dipole power spectrum.\n",
    "\n",
    "$$P(\\omega) = \\frac{1}{t_f^2}\\begin{vmatrix}\\int_0^{t_f}dt~e^{-i\\omega~t}d(t)\\end{vmatrix}^2$$"
   ]
  },
  {
   "cell_type": "markdown",
   "metadata": {},
   "source": [
    "Similarly, taking the fourier transform of the acceleration dipole moment, one get the harmonic spectrum \n",
    "in the direction of polarization\n",
    "$$H(\\omega) = \\frac{1}{t_f^2}\\begin{vmatrix}\\int_0^{t_f}dt~e^{-i\\omega~t}a(t)\\end{vmatrix}^2$$"
   ]
  },
  {
   "cell_type": "markdown",
   "metadata": {},
   "source": [
    "In this tutorial we will calculate the time dependent dipole moment using TDDFT method implemented in [Octopus code](https://octopus-code.org/wiki/Main_Page)\n",
    "\n",
    "First we begin with calculation of the ground state properties for $N_2$ molecule using LDA method. \n",
    "The input file for the ground state calculation is given in directory under the name test_octopus. \n",
    "\n",
    "OR\n",
    "\n",
    "You can create this directory here:"
   ]
  },
  {
   "cell_type": "code",
   "execution_count": 2,
   "metadata": {},
   "outputs": [
    {
     "name": "stdout",
     "output_type": "stream",
     "text": [
      "This directory already exist\n"
     ]
    }
   ],
   "source": [
    "import os\n",
    "\n",
    "# Get current working directory\n",
    "_pwd = os.getcwd()\n",
    "\n",
    "# Make new directory\n",
    "try:\n",
    "    Oct_dir = os.makedirs(_pwd+'\\\\test_octopus')\n",
    "except:\n",
    "    Oct_dir = _pwd+'\\\\test_octopus'\n",
    "    print('This directory already exist')"
   ]
  },
  {
   "cell_type": "markdown",
   "metadata": {},
   "source": [
    "We keep the geometrical coordinates of the molecule in the file: N2.xyz\n",
    "\n",
    "2\n",
    "\n",
    "N      -0.66044100      -0.00736549       0.00000000\n",
    "\n",
    "N       0.29863339       0.51058848       0.00000000\n",
    "\n",
    "OR one can create this file."
   ]
  },
  {
   "cell_type": "code",
   "execution_count": 3,
   "metadata": {},
   "outputs": [],
   "source": [
    "N2_geo = open(Oct_dir+'\\\\N2.xyz','w')"
   ]
  },
  {
   "cell_type": "code",
   "execution_count": 4,
   "metadata": {},
   "outputs": [],
   "source": [
    "N2_geo.write('2 \\n \\n N -0.66044100 -0.00736549 0.00000000 \\n N 0.29863339 0.51058848 0.00000000')\n",
    "N2_geo.close()"
   ]
  },
  {
   "cell_type": "markdown",
   "metadata": {},
   "source": [
    "Octopus code executes the command with input file name as 'inp'. Hence, for ground state calculations we copy the file 'N2.gs.inp' to 'inp'.\n",
    "\n",
    "The input file:\n",
    "\n",
    "**#This test calculates a three-dimensional model for nitrogen molecule, considering**\n",
    "\n",
    "CalculationMode = gs\n",
    "\n",
    "Dimensions = 3\n",
    "\n",
    "fromScratch = yes\n",
    "\n",
    "**#Shape of the simulation box**\n",
    "\n",
    "BoxShape = sphere\n",
    "\n",
    "**#In the original reference, the spacing is 0.25 a.u.**\n",
    "\n",
    "Spacing = 0.35\n",
    "\n",
    "**#In the original reference, the box is 300 a.u. long. p**\n",
    "\n",
    "Radius = 200.0\n",
    "\n",
    "**#We use Kohn Sham method**\n",
    "\n",
    "TheoryLevel = kohn_sham\n",
    "\n",
    "**#Coordinates for N2 molecule**\n",
    "\n",
    "XYZCoordinates = \"N2.xyz\"\n",
    "\n",
    "**#Maximum number of iterations for SCF calculations**\n",
    "\n",
    "MaximumIter = 300\n",
    "\n",
    "**#Boundaries of the simulation box absorbing defined with mask function.**\n",
    "\n",
    "AbsorbingBoundaries = mask\n",
    "\n",
    "**#Specifies the boundary width**\n",
    "\n",
    "AbWidth = 50\n",
    "\n",
    "\n"
   ]
  },
  {
   "cell_type": "code",
   "execution_count": 5,
   "metadata": {},
   "outputs": [],
   "source": [
    "import shutil\n",
    "\n",
    "\n",
    "Lines = ['# This test calculates a one-dimensional model for Hydrogen, considering \\n',\n",
    "         'CalculationMode = gs \\n',\n",
    "         'Dimensions = 3 \\n',\n",
    "         'fromScratch = yes \\n',\n",
    "         'BoxShape = sphere \\n',\n",
    "         '# In the original reference, the spacing is 0.25 a.u. \\n',\n",
    "         'Spacing = 0.35 \\n',\n",
    "         '# In the original reference, the box is 300 a.u. long. p \\n',\n",
    "         'Radius = 200.0 \\n',\n",
    "         '#We use Kohn Sham method \\n',\n",
    "         'TheoryLevel = kohn_sham \\n',\n",
    "         '#Coordinates for N2 molecule \\n',\n",
    "         'XYZCoordinates = \"N2.xyz\" \\n',\n",
    "         '#Maximum number of iterations for SCF calculations \\n',\n",
    "         'MaximumIter = 300 \\n',\n",
    "         '#Boundaries of the simulation box absorbing defined with mask function. \\n',\n",
    "         'AbsorbingBoundaries = mask \\n',\n",
    "         '#Specifies the boundary width \\n',\n",
    "         'AbWidth = 50 \\n']\n",
    "try:\n",
    "    shutil.copyfile(Oct_dir+'\\\\N2.gs.inp', Oct_dir+'\\\\inp')\n",
    "except:\n",
    "    gs_inp = open(Oct_dir+'\\\\N2.gs.inp','w')\n",
    "    gs_inp.writelines(Lines)\n",
    "    gs_inp.close()\n",
    "    shutil.copyfile(Oct_dir+'\\\\N2.gs.inp', Oct_dir+'\\\\inp')"
   ]
  },
  {
   "cell_type": "markdown",
   "metadata": {},
   "source": [
    "To execute octopus calculations you can load the octopus modeule or call \n",
    "octopus from the directory where octopus is installed and execute in terminal:\n",
    "\n",
    ">> octopus > gs.log \n",
    "\n",
    "The output file for the ground state calculations is given in test_octopus directory as gs.log\n",
    "\n",
    "This calculation takes about 32 mins when run in serial.\n",
    "\n",
    "The ouptup of the calculation will give several SCF iterations and end with:\n",
    "\n",
    "#State  Eigenvalue (H) Occupation    Error\n",
    "\n",
    "      1       -1.045563    2.000000   (2.6E-05)\n",
    "      \n",
    "      2       -0.505260    2.000000   (2.0E-05)\n",
    "      \n",
    "      3       -0.470952    2.000000   (3.8E-05)\n",
    "      \n",
    "      4       -0.406124    2.000000   (2.7E-06)\n",
    "      \n",
    "      5       -0.359920    2.000000   (3.1E-05)\n"
   ]
  },
  {
   "cell_type": "markdown",
   "metadata": {},
   "source": [
    "The ionization potential of 0.36 Hartree (9.80eV) is a poor match for experimental value of [15.6eV](https://webbook.nist.gov/cgi/cbook.cgi?ID=C7727379&Mask=20). However, quantitative results is beyond the scope of this tutorial. The ionization potential value can be improved by using different method for calculation (see [M.R. Mack et al. 2013](https://doi.org/10.1016/j.cplett.2012.11.045))."
   ]
  },
  {
   "cell_type": "markdown",
   "metadata": {},
   "source": [
    "Now we run the time dependent (td) calculations:\n",
    "\n",
    "The input file of the td calculations is given as 'N2.td.inp' which is present in the test directory. If not one can create using:\n",
    "\n",
    "#This test calculates a three-dimensional model for nitrogen molecule, considering\n",
    "\n",
    "CalculationMode = td\n",
    "\n",
    "Debug = trace\n",
    "\n",
    "Dimensions = 3\n",
    "\n",
    "fromScratch = yes\n",
    "\n",
    "PseudopotentialSet = pseudodojo_pbe\n",
    "\n",
    "FilterPotentials = filter_none\n",
    "\n",
    "XYZCoordinates = \"N2.xyz\"\n",
    "\n",
    "BoxShape = sphere\n",
    "\n",
    "Radius = 50*angstrom\n",
    "\n",
    "Spacing = 0.3*angstrom\n",
    "\n",
    "\n",
    "TheoryLevel = kohn_sham\n",
    "\n",
    "#Frequency corresponding to 800nm.\n",
    "\n",
    "omega = 0.05655\n",
    "\n",
    "period = 0.6*femtosecond #*pi/omega\n",
    "\n",
    "\n",
    "#In the original reference, there are 96 cycles instead of 8.\n",
    "\n",
    "stime = 30*period\n",
    "\n",
    "\n",
    "#The time-step is shorter in the original reference. But the propagation\n",
    "\n",
    "#algorithm is also probably different.\n",
    "\n",
    "dt = period/100\n",
    "\n",
    "TDPropagationTime = stime\n",
    "\n",
    "TDPropagator = exp_mid\n",
    "\n",
    "TDExponentialMethod = lanczos\n",
    "\n",
    "TDExpOrder = 20\n",
    "\n",
    "TDTimeStep = dt\n",
    "\n",
    "%TDExternalFields\n",
    "\n",
    "electric_field   | 1 | 0 | 0 | omega | \"envelope_function\"\n",
    "\n",
    "%\n",
    "\n",
    "electric_amplitude = (sqrt(4*10^14)/sqrt(3.509470*10^16))\n",
    "\n",
    "%TDFunctions\n",
    "\n",
    "\"envelope_function\" | tdf_from_expr | \"electric_amplitude*(sin(pi/stime*t))^2\"\n",
    "\n",
    "%\n",
    "\n",
    "#AbsorbingBoundaries = cap\n",
    "\n",
    "AbsorbingBoundaries = mask\n",
    "\n",
    "AbWidth = 50\n",
    "\n",
    "%TDOutput \n",
    "\n",
    " laser\n",
    "\n",
    " multipoles \n",
    "\n",
    " dipole_acceleration\n",
    "\n",
    "%"
   ]
  },
  {
   "cell_type": "code",
   "execution_count": 6,
   "metadata": {},
   "outputs": [],
   "source": [
    "Lines_td = ['#This test calculates a three-dimensional model for nitrogen molecule, considering \\n',\n",
    "            'CalculationMode = td \\n',\n",
    "            'Debug = trace \\n',\n",
    "            'Dimensions = 3 \\n',\n",
    "            'fromScratch = yes \\n',\n",
    "            'PseudopotentialSet = pseudodojo_pbe \\n',\n",
    "            'FilterPotentials = filter_none \\n',\n",
    "            'XYZCoordinates = \"N2.xyz\" \\n',\n",
    "            'BoxShape = sphere \\n',\n",
    "            'Radius = 50*angstrom \\n',\n",
    "            'Spacing = 0.3*angstrom \\n',\n",
    "            'TheoryLevel = kohn_sham \\n',\n",
    "            '#Frequency corresponding to 800nm. \\n',\n",
    "            'omega = 0.05655 \\n',\n",
    "            'period = 0.6*femtosecond \\n',\n",
    "            '#In the original reference, there are 96 cycles instead of 8. \\n',\n",
    "            'stime = 30*period \\n',\n",
    "            '#The time-step is shorter in the original reference. But the propagation \\n',\n",
    "            '#algorithm is also probably different. \\n',\n",
    "            'dt = period/100 \\n',\n",
    "            'TDPropagationTime = stime \\n',\n",
    "            'TDPropagator = exp_mid \\n',\n",
    "            'TDExponentialMethod = lanczos \\n',\n",
    "            'TDExpOrder = 20 \\n',\n",
    "            'TDTimeStep = dt \\n',\n",
    "            '%TDExternalFields \\n',\n",
    "            'electric_field   | 1 | 0 | 0 | omega | \"envelope_function\" \\n',\n",
    "            '% \\n',\n",
    "            'electric_amplitude = (sqrt(4*10^14)/sqrt(3.509470*10^16)) \\n',\n",
    "            '%TDFunctions \\n',\n",
    "            '\"envelope_function\" | tdf_from_expr | \"electric_amplitude*(sin(pi/stime*t))^2\" \\n',\n",
    "            '% \\n',\n",
    "            'AbsorbingBoundaries = mask \\n',\n",
    "            'AbWidth = 50 \\n',\n",
    "            '%TDOutput \\n',\n",
    "            ' laser \\n',\n",
    "            ' multipoles \\n',\n",
    "            ' dipole_acceleration \\n',\n",
    "            '%']"
   ]
  },
  {
   "cell_type": "code",
   "execution_count": 7,
   "metadata": {},
   "outputs": [],
   "source": [
    "try:\n",
    "    shutil.copyfile(Oct_dir+'\\\\N2.td.inp', Oct_dir+'\\\\inp')\n",
    "except:\n",
    "    td_inp = open(Oct_dir+'\\\\N2.td.inp','w')\n",
    "    td_inp.writelines(Lines_td)\n",
    "    td_inp.close()\n",
    "    shutil.copyfile(Oct_dir+'\\\\N2.td.inp', Oct_dir+'\\\\inp')"
   ]
  },
  {
   "cell_type": "markdown",
   "metadata": {},
   "source": [
    "To execute octopus td calculations you can execute in terminal:\n",
    "\n",
    ">> octopus > td.log \n",
    "\n",
    "The output file for the td calculations is given in test_octopus directory as td.log along with the directory td.general\n",
    "\n",
    "The directory td.general will contain the three files we called in the input file:\n",
    "laser, multipoles, and dipole_acceleration. \n",
    "\n",
    "We will use these files to plot the harmonic generation dipole power spectrum. "
   ]
  },
  {
   "cell_type": "markdown",
   "metadata": {},
   "source": [
    "To generate the files that can calculate the fourier transform of the time dependent dipole one can execute in terminal:\n",
    ">> oct-harmonic-spectrum -m 1\n",
    "\n",
    "This command will generate hs-mult.x file. \n",
    "\n",
    "The hs-mult.x file contains:\n",
    "#w                  H(w) \n",
    "\n",
    "#H             (b/hbar/H^2 \n",
    "\n",
    "   0.000000E+00   0.335852E-03\n",
    "   \n",
    "   0.514091E-02   0.402734E-03\n",
    "   \n",
    "   0.102818E-01   0.863577E-03\n",
    "   \n",
    "   0.154227E-01   0.328424E-04\n",
    "   \n",
    "$\\dots \\dots$ \n",
    "\n",
    "On plotting the hs-mult.x file we get the harmonic generation dipole power spectrum."
   ]
  },
  {
   "cell_type": "code",
   "execution_count": 8,
   "metadata": {},
   "outputs": [
    {
     "ename": "ModuleNotFoundError",
     "evalue": "No module named 'pandas'",
     "output_type": "error",
     "traceback": [
      "\u001b[0;31m---------------------------------------------------------------------------\u001b[0m",
      "\u001b[0;31mModuleNotFoundError\u001b[0m                       Traceback (most recent call last)",
      "\u001b[0;32m/tmp/ipykernel_6029/4180252375.py\u001b[0m in \u001b[0;36m<module>\u001b[0;34m\u001b[0m\n\u001b[0;32m----> 1\u001b[0;31m \u001b[0;32mimport\u001b[0m \u001b[0mpandas\u001b[0m \u001b[0;32mas\u001b[0m \u001b[0mpd\u001b[0m\u001b[0;34m\u001b[0m\u001b[0;34m\u001b[0m\u001b[0m\n\u001b[0m\u001b[1;32m      2\u001b[0m \u001b[0;32mimport\u001b[0m \u001b[0mmatplotlib\u001b[0m\u001b[0;34m.\u001b[0m\u001b[0mpyplot\u001b[0m \u001b[0;32mas\u001b[0m \u001b[0mplt\u001b[0m\u001b[0;34m\u001b[0m\u001b[0;34m\u001b[0m\u001b[0m\n\u001b[1;32m      3\u001b[0m \u001b[0;34m\u001b[0m\u001b[0m\n\u001b[1;32m      4\u001b[0m \u001b[0mhs_file\u001b[0m \u001b[0;34m=\u001b[0m \u001b[0mOct_dir\u001b[0m\u001b[0;34m+\u001b[0m\u001b[0;34m'\\\\hs-mult.x'\u001b[0m\u001b[0;34m\u001b[0m\u001b[0;34m\u001b[0m\u001b[0m\n\u001b[1;32m      5\u001b[0m \u001b[0mdf\u001b[0m \u001b[0;34m=\u001b[0m \u001b[0mpd\u001b[0m\u001b[0;34m.\u001b[0m\u001b[0mread_csv\u001b[0m\u001b[0;34m(\u001b[0m\u001b[0mhs_file\u001b[0m\u001b[0;34m,\u001b[0m\u001b[0mheader\u001b[0m\u001b[0;34m=\u001b[0m\u001b[0;32mNone\u001b[0m\u001b[0;34m,\u001b[0m\u001b[0mskiprows\u001b[0m\u001b[0;34m=\u001b[0m\u001b[0;36m2\u001b[0m\u001b[0;34m,\u001b[0m \u001b[0mdelim_whitespace\u001b[0m\u001b[0;34m=\u001b[0m\u001b[0;32mTrue\u001b[0m\u001b[0;34m)\u001b[0m\u001b[0;34m\u001b[0m\u001b[0;34m\u001b[0m\u001b[0m\n",
      "\u001b[0;31mModuleNotFoundError\u001b[0m: No module named 'pandas'"
     ]
    }
   ],
   "source": [
    "import pandas as pd\n",
    "import matplotlib.pyplot as plt\n",
    "\n",
    "hs_file = Oct_dir+'\\\\hs-mult.x'\n",
    "df = pd.read_csv(hs_file,header=None,skiprows=2, delim_whitespace=True)\n",
    "plt.semilogy(df[0]/0.056,df[1],label='N2')\n",
    "plt.xlabel('Harmonic order')\n",
    "plt.ylabel('Harmonic intensity (arb. units)')"
   ]
  },
  {
   "cell_type": "code",
   "execution_count": null,
   "metadata": {},
   "outputs": [],
   "source": []
  }
 ],
 "metadata": {
  "kernelspec": {
   "display_name": "Python 3.9.9 ('mcstas')",
   "language": "python",
   "name": "python3"
  },
  "language_info": {
   "codemirror_mode": {
    "name": "ipython",
    "version": 3
   },
   "file_extension": ".py",
   "mimetype": "text/x-python",
   "name": "python",
   "nbconvert_exporter": "python",
   "pygments_lexer": "ipython3",
   "version": "3.9.9"
  },
  "vscode": {
   "interpreter": {
    "hash": "700d66406f4fe75b49c516656c320b25128aa56cb4bed3dad802e21ba89b65fb"
   }
  }
 },
 "nbformat": 4,
 "nbformat_minor": 2
}
