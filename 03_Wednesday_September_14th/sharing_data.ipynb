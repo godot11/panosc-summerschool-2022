{
 "cells": [
  {
   "cell_type": "markdown",
   "id": "58df46bf-638b-4bd6-a1cf-79568b6db629",
   "metadata": {},
   "source": [
    "# Sharing our data\n",
    "\n",
    "In this exercise, you have been asked to find a wide variety of sources of data on lithium diffusion and produce a series of model QENS datasets that would result from the diffusion coefficients identified. \n",
    "It is important that the data that we share is made available in an format that can be reused by others. \n",
    "Therefore, here we will discuss how to format the HDF5 files that we will make available for others.\n",
    "\n",
    "To write our files, we will use `h5py`, a Python library that enables HDF5 file writing and reading. "
   ]
  },
  {
   "cell_type": "code",
   "execution_count": 1,
   "id": "c2ede681-5fcc-418d-8c48-39d0ea4406ae",
   "metadata": {},
   "outputs": [],
   "source": [
    "import h5py\n",
    "import numpy as np\n",
    "import matplotlib.pyplot as plt"
   ]
  },
  {
   "cell_type": "markdown",
   "id": "05173954-6598-4397-9637-8310568978a1",
   "metadata": {},
   "source": [
    "The dataset that we are writing will be a two-dimensional array of structure factor as a function of $q$ and $\\omega$. \n",
    "For this example, we will represent this an array of random numbers and the $q$ and $\\omega$ axes as linear spaced arrays."
   ]
  },
  {
   "cell_type": "code",
   "execution_count": 2,
   "id": "e389a89c-b11d-4d8a-acfc-9c5fa40095b8",
   "metadata": {},
   "outputs": [],
   "source": [
    "q = np.linspace(0.01, 3, 10)\n",
    "omega = np.linspace(-1.5, 1.5, 1000)\n",
    "data = np.random.randn(q.size, omega.size)"
   ]
  },
  {
   "cell_type": "code",
   "execution_count": 3,
   "id": "69a3de61-1c95-4d28-a93b-93ce1e1b3eb4",
   "metadata": {},
   "outputs": [
    {
     "data": {
      "image/png": "[encoded data removed]",
      "text/plain": [
       "<Figure size 432x288 with 2 Axes>"
      ]
     },
     "metadata": {
      "needs_background": "light"
     },
     "output_type": "display_data"
    }
   ],
   "source": [
    "omegaq = np.meshgrid(omega, q)\n",
    "plt.contourf(*omegaq, data) \n",
    "plt.xlabel('$\\omega$/meV')\n",
    "plt.ylabel('$q$/Å$^{-1}$')\n",
    "plt.colorbar(label='$S(\\omega, q)$')\n",
    "plt.show()"
   ]
  },
  {
   "cell_type": "markdown",
   "id": "25d2c353-db20-404e-a5dc-95b0d6b4f8ab",
   "metadata": {},
   "source": [
    "We will keep the structure of the HDF5 files investigated previously, i.e. `'entry1/data'`. \n",
    "However, given that each of our files should contain many datasets, we will iterate the data object (so we will have `'entry1/data1'`, `'entry1/data2'`, etc.). \n",
    "In addition to the `'DATA'`, `'X'` and `'Y'` items we will also include `'citiation'` and `'technique'` items for each of `data` items which will give information about the publication the value of diffusion coefficient was found from and the experimental or simulation technique used in the work. \n",
    "Feel free to add any other addition items that you think would be useful for future researchers, such as the specific lithium compound investigated. \n",
    "\n",
    "In practice, we can build the file as follows."
   ]
  },
  {
   "cell_type": "code",
   "execution_count": 4,
   "id": "87ce9309-c858-4dec-a66d-8c65f9b327ba",
   "metadata": {},
   "outputs": [],
   "source": [
    "f = h5py.File('./example.hdf', 'w')\n",
    "f['entry1/data1/DATA'] = data\n",
    "f['entry1/data1/X'] = omega\n",
    "f['entry1/data1/Y'] = q\n",
    "f['entry1/data1/citation'] = 'doi.org/xxxxx.xxxxxx'\n",
    "f['entry1/data1/technique'] = 'A cool experimental method'\n",
    "f.close()"
   ]
  },
  {
   "cell_type": "code",
   "execution_count": null,
   "id": "4fca7941-2689-4a1a-be5b-1e604fe58e5d",
   "metadata": {},
   "outputs": [],
   "source": []
  }
 ],
 "metadata": {
  "kernelspec": {
   "display_name": "Python 3 (ipykernel)",
   "language": "python",
   "name": "python3"
  },
  "language_info": {
   "codemirror_mode": {
    "name": "ipython",
    "version": 3
   },
   "file_extension": ".py",
   "mimetype": "text/x-python",
   "name": "python",
   "nbconvert_exporter": "python",
   "pygments_lexer": "ipython3",
   "version": "3.9.13"
  }
 },
 "nbformat": 4,
 "nbformat_minor": 5
}
