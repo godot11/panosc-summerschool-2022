{
 "cells": [
  {
   "cell_type": "code",
   "execution_count": 1,
   "id": "259884ac-bc0b-4199-a866-39f454d7e0c6",
   "metadata": {},
   "outputs": [],
   "source": [
    "import numpy as np\n",
    "import matplotlib.pyplot as plt\n",
    "import h5py"
   ]
  },
  {
   "cell_type": "markdown",
   "id": "48159041-a490-47ed-9645-0706c06c47ff",
   "metadata": {},
   "source": [
    "# Modelling QENS dataset\n",
    "\n",
    "## The Random-Jump diffusion model\n",
    "\n",
    "In this workshop, we will be looking at how to model quasi-elastic neutron scattering (QENS) data based on an estimate of the diffusion coefficient, $D$, and random walk step size, $l$.\n",
    "To achieve this, we will use the Random-Jump diffusion model <a href='https://doi.org/10.1080/00268978100100521' target='_blank'>[1]</a> which describes the variation of the structure factor, $S$, as a function of the energy transfer, $\\omega$, and the wavevector, $q$. \n",
    "\n",
    "$$\n",
    "S(\\omega, q) = \\frac{A}{\\pi\\gamma(q)\\Big[1 + \\big(\\frac{\\omega-\\omega_0}{\\gamma(q)}\\big)^2\\Big]},\n",
    "$$\n",
    "\n",
    "where $A$ is a scale factor, $\\omega_0$ is the peak of the QENS curve, and, \n",
    "\n",
    "$$\n",
    "\\gamma(q) = \\frac{6Dq^2}{1+l^2q^2}.\n",
    "$$\n",
    "\n",
    "The first thing that we will do is produce functions to enable the simulation a QENS dataset. \n",
    "Note, that there are other diffusion models that can be used to investigate QENS data, indeed there is the excellent [QENSmodels Python package](https://qensmodels.readthedocs.io) that includes a range of them, however, for simplicity we will focus on the Random-Jump model."
   ]
  },
  {
   "cell_type": "code",
   "execution_count": 2,
   "id": "8c35f55b-933f-4b97-abd1-d5d2fc550e58",
   "metadata": {},
   "outputs": [],
   "source": [
    "def gamma(q, D=0.091507, l=2.957):\n",
    "    return 6 * D * q ** 2 / (1 + l ** 2 * q ** 2)"
   ]
  },
  {
   "cell_type": "markdown",
   "id": "783dcb97-310f-4024-a6f0-b6d5ca3129e3",
   "metadata": {},
   "source": [
    "We can visualise what this will look like by plotting $\\gamma(q)$ for the range $0.01 \\leq q < 3 \\mathrm{Å}^{-1}$, where $D = 0.091507 \\mathrm{Å}^2\\mathrm{meV}$ and $l=2.957 \\mathrm{Å}$."
   ]
  },
  {
   "cell_type": "code",
   "execution_count": 3,
   "id": "b7d5d03d-1209-45e3-9f55-cc9bbc4d412e",
   "metadata": {},
   "outputs": [
    {
     "data": {
      "image/png": "[encoded data removed]",
      "text/plain": [
       "<Figure size 432x288 with 1 Axes>"
      ]
     },
     "metadata": {
      "needs_background": "light"
     },
     "output_type": "display_data"
    }
   ],
   "source": [
    "q = np.linspace(0.01, 2.9999, 10)\n",
    "plt.plot(q, gamma(q), 'o')\n",
    "plt.xlabel('$q$/Å$^{-1}$')\n",
    "plt.ylabel('$\\gamma(q)$/meV')\n",
    "plt.show()"
   ]
  },
  {
   "cell_type": "markdown",
   "id": "503c4a70-547e-4d67-9029-e09c897c5171",
   "metadata": {},
   "source": [
    "This function can then be used to produce an example of type of dataset that we measure with QENS, that is at a given $q$ we measure the structure factor, $S(\\omega, q)$ as a function of energy transfer, $\\omega$. \n",
    "To achieve this, we now need a function that will model the structure factor at a given $\\omega$ and $q$, with inputs of $A$, $\\omega_0$, $D$, and $l$. "
   ]
  },
  {
   "cell_type": "code",
   "execution_count": 4,
   "id": "d07842e6-38ab-4a48-8b69-0829391aaf96",
   "metadata": {},
   "outputs": [],
   "source": [
    "def structure_factor(omega, q, A=1, omega0=0, D=0.091507, l=2.957):\n",
    "    g = gamma(q[:, np.newaxis], D, l)\n",
    "    return A / (np.pi * g * (1 + ((omega - omega0) / g) ** 2))"
   ]
  },
  {
   "cell_type": "markdown",
   "id": "d71f91f7-0ce5-4945-ac5d-20db655fe582",
   "metadata": {},
   "source": [
    "Again for a range of $-1.5 \\leq \\omega \\leq 1.5$, a $q$-value of $1\\;\\mathrm{Å}^{-1}$, where $A=1$, $\\omega_0 = 0\\;\\mathrm{meV}$ and the same input values ($D$ and $l$) for the $q$-dependent relationship above, the following curve should be observed."
   ]
  },
  {
   "cell_type": "code",
   "execution_count": 5,
   "id": "7f5fb050-47f4-4e98-9881-613e6a4972e9",
   "metadata": {},
   "outputs": [
    {
     "data": {
      "image/png": "[encoded data removed]",
      "text/plain": [
       "<Figure size 432x288 with 1 Axes>"
      ]
     },
     "metadata": {
      "needs_background": "light"
     },
     "output_type": "display_data"
    }
   ],
   "source": [
    "omega = np.linspace(-1.5, 1.5, 1000)\n",
    "plt.plot(omega, structure_factor(omega, np.array([1]))[0], label='$q=1\\;\\mathrm{Å}^{-1}$')\n",
    "plt.xlabel('$\\omega$/meV')\n",
    "plt.ylabel('$S(\\omega, q)$')\n",
    "plt.legend()\n",
    "plt.show()"
   ]
  },
  {
   "cell_type": "markdown",
   "id": "1e733bed-5c9e-44a5-bcef-1e7e2e4ca8fa",
   "metadata": {},
   "source": [
    "These two functions can be used together to plot the two dimensional QENS dataset. "
   ]
  },
  {
   "cell_type": "code",
   "execution_count": 6,
   "id": "c56f3b99-476d-4acb-a977-2bce813cd455",
   "metadata": {},
   "outputs": [
    {
     "data": {
      "image/png": "[encoded data removed]",
      "text/plain": [
       "<Figure size 432x288 with 2 Axes>"
      ]
     },
     "metadata": {
      "needs_background": "light"
     },
     "output_type": "display_data"
    }
   ],
   "source": [
    "omegaq = np.meshgrid(omega, q)\n",
    "plt.contourf(*omegaq, structure_factor(omega, q))\n",
    "plt.xlabel('$\\omega$/meV')\n",
    "plt.ylabel('$q$/Å$^{-1}$')\n",
    "plt.colorbar(label='$S(\\omega, q)$')\n",
    "plt.show()"
   ]
  },
  {
   "cell_type": "markdown",
   "id": "a97b0424-a310-4209-a75b-096a56c938c4",
   "metadata": {},
   "source": [
    "The final element to include in our model of a QENS dataset is the instrumental resolution function. \n",
    "We obtain can obtain this from the measurement of a known sample and we store this data in an hdf5 file type. \n",
    "We read these as follows."
   ]
  },
  {
   "cell_type": "code",
   "execution_count": 7,
   "id": "476f046b-7bb8-4854-804b-dc5e1228fedf",
   "metadata": {},
   "outputs": [],
   "source": [
    "f = h5py.File('./data/resolution.hdf')"
   ]
  },
  {
   "cell_type": "markdown",
   "id": "ac2fc8b8-d3a6-43cf-bd4a-d42e8c361070",
   "metadata": {},
   "source": [
    "HDF5 files sort datasets in entries, we can find the resolution data in `'entry1/data1/DATA'` while the $q$ values and $\\omega$ values are available in the `'entry1/data1/X'` and `'entry1/data1/Y'` entries respectively. "
   ]
  },
  {
   "cell_type": "code",
   "execution_count": 8,
   "id": "5edd2eb7-f93d-4818-b5b7-e18eaf82685e",
   "metadata": {},
   "outputs": [],
   "source": [
    "resolution = f['entry1/data1/DATA'][:]\n",
    "resolution /= resolution.sum()\n",
    "omega = f['entry1/data1/X'][:]\n",
    "q = f['entry1/data1/Y'][:]"
   ]
  },
  {
   "cell_type": "code",
   "execution_count": 9,
   "id": "5b51479a-56c9-4b43-b634-3e3d633fb264",
   "metadata": {},
   "outputs": [
    {
     "data": {
      "image/png": "[encoded data removed]",
      "text/plain": [
       "<Figure size 432x288 with 2 Axes>"
      ]
     },
     "metadata": {
      "needs_background": "light"
     },
     "output_type": "display_data"
    }
   ],
   "source": [
    "XY = np.meshgrid(omega, q)\n",
    "plt.contourf(*XY, resolution)\n",
    "plt.xlabel('$\\omega$/meV')\n",
    "plt.ylabel('$q$/Å$^{-1}$')\n",
    "plt.colorbar(label='$S(\\omega, q)$')\n",
    "plt.show()"
   ]
  },
  {
   "cell_type": "markdown",
   "id": "9484b1f5-3abc-465b-92cc-3717205a9dfb",
   "metadata": {},
   "source": [
    "The full dataset can be constructed using the two dimensional convolution of the model and the resolution."
   ]
  },
  {
   "cell_type": "code",
   "execution_count": 10,
   "id": "d127b70f-dcdd-4575-b1bb-745db9b1c8c7",
   "metadata": {},
   "outputs": [
    {
     "data": {
      "image/png": "[encoded data removed]",
      "text/plain": [
       "<Figure size 432x288 with 2 Axes>"
      ]
     },
     "metadata": {
      "needs_background": "light"
     },
     "output_type": "display_data"
    }
   ],
   "source": [
    "from scipy.signal import convolve2d\n",
    "plt.contourf(*XY, convolve2d(structure_factor(omega, q), resolution, 'same'))\n",
    "plt.xlabel('$\\omega$/meV')\n",
    "plt.ylabel('$q$/Å$^{-1}$')\n",
    "plt.colorbar(label='$S(\\omega, q)$')\n",
    "plt.show()"
   ]
  },
  {
   "cell_type": "markdown",
   "id": "b14e72e0-7d28-4000-bfbe-0fe33636095a",
   "metadata": {},
   "source": [
    "## References\n",
    "\n",
    "1. Hall, P. J. and Ross, D. K. [Incoherent neutron scattering functions for random jump diffusion in bounded and infinite media](https://doi.org/10.1080/00268978100100521). *Mol. Phys.*, **42**(3), 673-682."
   ]
  }
 ],
 "metadata": {
  "kernelspec": {
   "display_name": "Python 3 (ipykernel)",
   "language": "python",
   "name": "python3"
  },
  "language_info": {
   "codemirror_mode": {
    "name": "ipython",
    "version": 3
   },
   "file_extension": ".py",
   "mimetype": "text/x-python",
   "name": "python",
   "nbconvert_exporter": "python",
   "pygments_lexer": "ipython3",
   "version": "3.9.13"
  }
 },
 "nbformat": 4,
 "nbformat_minor": 5
}
